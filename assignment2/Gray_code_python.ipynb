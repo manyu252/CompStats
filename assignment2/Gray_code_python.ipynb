{
 "cells": [
  {
   "cell_type": "code",
   "execution_count": 2,
   "metadata": {},
   "outputs": [],
   "source": [
    "import pandas as pd\n"
   ]
  },
  {
   "cell_type": "code",
   "execution_count": 3,
   "metadata": {},
   "outputs": [
    {
     "data": {
      "text/html": [
       "<div>\n",
       "<style scoped>\n",
       "    .dataframe tbody tr th:only-of-type {\n",
       "        vertical-align: middle;\n",
       "    }\n",
       "\n",
       "    .dataframe tbody tr th {\n",
       "        vertical-align: top;\n",
       "    }\n",
       "\n",
       "    .dataframe thead th {\n",
       "        text-align: right;\n",
       "    }\n",
       "</style>\n",
       "<table border=\"1\" class=\"dataframe\">\n",
       "  <thead>\n",
       "    <tr style=\"text-align: right;\">\n",
       "      <th></th>\n",
       "      <th>LSAT</th>\n",
       "      <th>GPA</th>\n",
       "    </tr>\n",
       "  </thead>\n",
       "  <tbody>\n",
       "    <tr>\n",
       "      <th>0</th>\n",
       "      <td>576</td>\n",
       "      <td>3.39</td>\n",
       "    </tr>\n",
       "    <tr>\n",
       "      <th>1</th>\n",
       "      <td>635</td>\n",
       "      <td>3.30</td>\n",
       "    </tr>\n",
       "    <tr>\n",
       "      <th>2</th>\n",
       "      <td>558</td>\n",
       "      <td>2.81</td>\n",
       "    </tr>\n",
       "    <tr>\n",
       "      <th>3</th>\n",
       "      <td>578</td>\n",
       "      <td>3.03</td>\n",
       "    </tr>\n",
       "    <tr>\n",
       "      <th>4</th>\n",
       "      <td>666</td>\n",
       "      <td>3.44</td>\n",
       "    </tr>\n",
       "  </tbody>\n",
       "</table>\n",
       "</div>"
      ],
      "text/plain": [
       "   LSAT   GPA\n",
       "0   576  3.39\n",
       "1   635  3.30\n",
       "2   558  2.81\n",
       "3   578  3.03\n",
       "4   666  3.44"
      ]
     },
     "execution_count": 3,
     "metadata": {},
     "output_type": "execute_result"
    }
   ],
   "source": [
    "data = pd.read_csv(r'C:\\Users\\Farhang\\Documents\\Maastricht University\\Period 4\\Statistics\\assiegnment 2\\gray code\\Law.csv')\n",
    "data.head()"
   ]
  },
  {
   "cell_type": "code",
   "execution_count": 9,
   "metadata": {},
   "outputs": [],
   "source": [
    "import numpy as np\n",
    "\n",
    "def gray_code_composition(n, k):\n",
    "    point = np.zeros(3, dtype=int)\n",
    "    x = np.zeros(k, dtype=int)\n",
    "    x[0] = n\n",
    "    final = False\n",
    "    \n",
    "    while not final:\n",
    "        if sum(x) == 0:\n",
    "            x[0] = n\n",
    "            point[0] = 1\n",
    "            point[1] = 2\n",
    "            point[2] = 1\n",
    "        elif x[k-1] == n:\n",
    "            raise ValueError('Already Finished')\n",
    "        elif point[2] == 1:\n",
    "            b = np.arange(k)[x > 0][0]\n",
    "            if np.isnan(b):\n",
    "                b = 2\n",
    "            if b == 2:\n",
    "                if point[0] == 1 and x[0] == 1:\n",
    "                    point[2] = 2\n",
    "            else:\n",
    "                if (n - x[0]) % 2 == 0:\n",
    "                    point[2] = 2\n",
    "                elif x[b] % 2 == 1:\n",
    "                    point[1] = b\n",
    "                    point[2] = b\n",
    "                else:\n",
    "                    point[0] = b\n",
    "        else:\n",
    "            if (n - x[point[2]]) % 2 == 1:\n",
    "                point[1] = point[2]\n",
    "                point[2] -= 1\n",
    "                if x[point[2]] % 2 == 0:\n",
    "                    point[1] = 1\n",
    "                    point[2] = 1\n",
    "            else:\n",
    "                if x[point[2]+1] % 2 == 0:\n",
    "                    point[1] = point[2]\n",
    "                    point[2] += 1\n",
    "                else:\n",
    "                    point[1] = point[2] + 1\n",
    "                    point[2] = point[2]\n",
    "        x[point[1]-1] -= 1\n",
    "        x[point[0]-1] += 1\n",
    "        \n",
    "        if x[0] > 0:\n",
    "            point[2] = 1\n",
    "        if x[k-1] == n:\n",
    "            final = True\n",
    "    \n",
    "    return x\n"
   ]
  },
  {
   "cell_type": "code",
   "execution_count": 10,
   "metadata": {},
   "outputs": [],
   "source": [
    "# Call the Gray composition function on the dataset\n",
    "result = gray_code_composition(n=15, k=15)\n",
    "\n",
    "# Print the result\n",
    "print(result)"
   ]
  },
  {
   "cell_type": "code",
   "execution_count": null,
   "metadata": {},
   "outputs": [],
   "source": [
    "matrix = df.values\n",
    "\n",
    "# Apply gray code composition to the matrix\n",
    "for i in range(len(matrix)):\n",
    "    for j in range(len(matrix[0])):\n",
    "        matrix[i][j] = int(matrix[i][j]) ^ int(matrix[i][j] >> 1)\n",
    "\n",
    "# Print the gray code matrix\n",
    "print(matrix)"
   ]
  }
 ],
 "metadata": {
  "kernelspec": {
   "display_name": "base",
   "language": "python",
   "name": "python3"
  },
  "language_info": {
   "codemirror_mode": {
    "name": "ipython",
    "version": 3
   },
   "file_extension": ".py",
   "mimetype": "text/x-python",
   "name": "python",
   "nbconvert_exporter": "python",
   "pygments_lexer": "ipython3",
   "version": "3.9.12"
  },
  "orig_nbformat": 4
 },
 "nbformat": 4,
 "nbformat_minor": 2
}
