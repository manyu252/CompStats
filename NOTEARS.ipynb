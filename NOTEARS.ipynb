{
 "cells": [
  {
   "cell_type": "code",
   "execution_count": 1,
   "metadata": {},
   "outputs": [
    {
     "data": {
      "text/html": [
       "<div>\n",
       "<style scoped>\n",
       "    .dataframe tbody tr th:only-of-type {\n",
       "        vertical-align: middle;\n",
       "    }\n",
       "\n",
       "    .dataframe tbody tr th {\n",
       "        vertical-align: top;\n",
       "    }\n",
       "\n",
       "    .dataframe thead th {\n",
       "        text-align: right;\n",
       "    }\n",
       "</style>\n",
       "<table border=\"1\" class=\"dataframe\">\n",
       "  <thead>\n",
       "    <tr style=\"text-align: right;\">\n",
       "      <th></th>\n",
       "      <th>A</th>\n",
       "      <th>B</th>\n",
       "      <th>C</th>\n",
       "      <th>D</th>\n",
       "      <th>E</th>\n",
       "      <th>F</th>\n",
       "      <th>G</th>\n",
       "      <th>H</th>\n",
       "      <th>I</th>\n",
       "      <th>J</th>\n",
       "      <th>K</th>\n",
       "    </tr>\n",
       "  </thead>\n",
       "  <tbody>\n",
       "    <tr>\n",
       "      <th>11667</th>\n",
       "      <td>3.793141</td>\n",
       "      <td>3.921324</td>\n",
       "      <td>3.895300</td>\n",
       "      <td>3.000136</td>\n",
       "      <td>2.883361</td>\n",
       "      <td>2.333931</td>\n",
       "      <td>2.847800</td>\n",
       "      <td>3.898225</td>\n",
       "      <td>2.699285</td>\n",
       "      <td>1.123815</td>\n",
       "      <td>2.824223</td>\n",
       "    </tr>\n",
       "    <tr>\n",
       "      <th>11668</th>\n",
       "      <td>3.469416</td>\n",
       "      <td>3.491603</td>\n",
       "      <td>3.629846</td>\n",
       "      <td>2.898924</td>\n",
       "      <td>2.700522</td>\n",
       "      <td>2.953265</td>\n",
       "      <td>3.093751</td>\n",
       "      <td>3.804530</td>\n",
       "      <td>2.699285</td>\n",
       "      <td>1.707091</td>\n",
       "      <td>2.824223</td>\n",
       "    </tr>\n",
       "    <tr>\n",
       "      <th>11669</th>\n",
       "      <td>3.550766</td>\n",
       "      <td>3.480149</td>\n",
       "      <td>3.653584</td>\n",
       "      <td>2.859884</td>\n",
       "      <td>2.535938</td>\n",
       "      <td>1.754421</td>\n",
       "      <td>2.606183</td>\n",
       "      <td>3.703122</td>\n",
       "      <td>2.699285</td>\n",
       "      <td>0.963030</td>\n",
       "      <td>3.125252</td>\n",
       "    </tr>\n",
       "    <tr>\n",
       "      <th>11670</th>\n",
       "      <td>3.641136</td>\n",
       "      <td>3.679161</td>\n",
       "      <td>3.137581</td>\n",
       "      <td>2.870503</td>\n",
       "      <td>2.706313</td>\n",
       "      <td>2.773593</td>\n",
       "      <td>2.882737</td>\n",
       "      <td>3.749889</td>\n",
       "      <td>4.347643</td>\n",
       "      <td>3.855321</td>\n",
       "      <td>3.211612</td>\n",
       "    </tr>\n",
       "    <tr>\n",
       "      <th>11671</th>\n",
       "      <td>3.586360</td>\n",
       "      <td>2.832224</td>\n",
       "      <td>3.242749</td>\n",
       "      <td>3.792578</td>\n",
       "      <td>2.887171</td>\n",
       "      <td>2.085967</td>\n",
       "      <td>2.402463</td>\n",
       "      <td>3.789189</td>\n",
       "      <td>2.699285</td>\n",
       "      <td>0.730129</td>\n",
       "      <td>3.041706</td>\n",
       "    </tr>\n",
       "  </tbody>\n",
       "</table>\n",
       "</div>"
      ],
      "text/plain": [
       "              A         B         C         D         E         F         G  \\\n",
       "11667  3.793141  3.921324  3.895300  3.000136  2.883361  2.333931  2.847800   \n",
       "11668  3.469416  3.491603  3.629846  2.898924  2.700522  2.953265  3.093751   \n",
       "11669  3.550766  3.480149  3.653584  2.859884  2.535938  1.754421  2.606183   \n",
       "11670  3.641136  3.679161  3.137581  2.870503  2.706313  2.773593  2.882737   \n",
       "11671  3.586360  2.832224  3.242749  3.792578  2.887171  2.085967  2.402463   \n",
       "\n",
       "              H         I         J         K  \n",
       "11667  3.898225  2.699285  1.123815  2.824223  \n",
       "11668  3.804530  2.699285  1.707091  2.824223  \n",
       "11669  3.703122  2.699285  0.963030  3.125252  \n",
       "11670  3.749889  4.347643  3.855321  3.211612  \n",
       "11671  3.789189  2.699285  0.730129  3.041706  "
      ]
     },
     "execution_count": 1,
     "metadata": {},
     "output_type": "execute_result"
    }
   ],
   "source": [
    "\n",
    "import pandas as pd\n",
    "data=pd.read_csv('a1_data.csv')\n",
    "data.tail()"
   ]
  },
  {
   "cell_type": "code",
   "execution_count": 2,
   "metadata": {},
   "outputs": [
    {
     "name": "stderr",
     "output_type": "stream",
     "text": [
      "2023-03-07 07:50:01,128 - /home/jay/miniconda3/envs/jay/lib/python3.10/site-packages/castle/backend/__init__.py[line:36] - INFO: You can use `os.environ['CASTLE_BACKEND'] = backend` to set the backend(`pytorch` or `mindspore`).\n",
      "2023-03-07 07:50:01,189 - /home/jay/miniconda3/envs/jay/lib/python3.10/site-packages/castle/algorithms/__init__.py[line:36] - INFO: You are using ``pytorch`` as the backend.\n"
     ]
    }
   ],
   "source": [
    "# !pip install gcastle\n",
    "from castle.common import GraphDAG\n",
    "from castle.metrics import MetricsDAG\n",
    "from castle.datasets import DAG, IIDSimulation\n",
    "from castle.algorithms import Notears"
   ]
  },
  {
   "cell_type": "code",
   "execution_count": 4,
   "metadata": {},
   "outputs": [],
   "source": [
    "#example \n",
    "# # simulate data for notears\n",
    "# weighted_random_dag = DAG.erdos_renyi(n_nodes=10, n_edges=20, weight_range=(0.5, 2.0), seed=1)\n",
    "# dataset = IIDSimulation(W=weighted_random_dag, n=2000, method='linear', sem_type='gauss')\n",
    "# true_dag, X = dataset.B, dataset.X\n",
    "\n",
    "# # notears learn\n",
    "# nt = Notears()\n",
    "# nt.learn(X)\n",
    "\n",
    "# # plot est_dag and true_dag\n",
    "# GraphDAG(nt.causal_matrix, true_dag)\n",
    "\n",
    "# # calculate accuracy\n",
    "# met = MetricsDAG(nt.causal_matrix, true_dag)\n",
    "# print(met.metrics)"
   ]
  },
  {
   "cell_type": "code",
   "execution_count": null,
   "metadata": {},
   "outputs": [],
   "source": []
  },
  {
   "cell_type": "markdown",
   "metadata": {},
   "source": [
    "### Assumption check"
   ]
  },
  {
   "cell_type": "markdown",
   "metadata": {},
   "source": []
  }
 ],
 "metadata": {
  "kernelspec": {
   "display_name": "Python 3.10.4 ('jay')",
   "language": "python",
   "name": "python3"
  },
  "language_info": {
   "codemirror_mode": {
    "name": "ipython",
    "version": 3
   },
   "file_extension": ".py",
   "mimetype": "text/x-python",
   "name": "python",
   "nbconvert_exporter": "python",
   "pygments_lexer": "ipython3",
   "version": "3.10.4"
  },
  "orig_nbformat": 4,
  "vscode": {
   "interpreter": {
    "hash": "b45238433d97b733445830728515dbc4e9807b5f97a9e67bd6f4f65dfb5562d4"
   }
  }
 },
 "nbformat": 4,
 "nbformat_minor": 2
}
