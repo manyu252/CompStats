{
 "cells": [
  {
   "cell_type": "code",
   "execution_count": 1,
   "metadata": {},
   "outputs": [],
   "source": [
    "import numpy as np\n",
    "import pandas as pd\n",
    "import warnings\n",
    "from causalnex.structure import StructureModel\n",
    "from IPython.display import Image\n",
    "from causalnex.plots import plot_structure, NODE_STYLE, EDGE_STYLE\n",
    "from scipy.spatial.distance import pdist, squareform\n",
    "from scipy.cluster.hierarchy import linkage, dendrogram\n",
    "from networkx import DiGraph\n",
    "import matplotlib.pyplot as plt\n",
    "import seaborn as sns\n",
    "from sklearn.cluster import KMeans\n",
    "from networkx import DiGraph\n",
    "\n",
    "warnings.filterwarnings(\"ignore\")  # silence warnings"
   ]
  },
  {
   "cell_type": "code",
   "execution_count": 2,
   "metadata": {},
   "outputs": [],
   "source": [
    "# create DIGraphs from adjacency matrices\n",
    "def create_dag(adjacency_matrix, threshold=0.8):\n",
    "    dag = DiGraph()\n",
    "    dag.add_nodes_from(range(1, adjacency_matrix.shape[0]+1))\n",
    "    for i in range(adjacency_matrix.shape[0]):\n",
    "        for j in range(adjacency_matrix.shape[1]):\n",
    "            if adjacency_matrix[i, j]>= threshold:\n",
    "                dag.add_edge(i+1, j+1)\n",
    "    return dag\n",
    "def create_graph_from_WeightedArray(Result, threshold=0.8):\n",
    "    # rename the columns and rows\n",
    "    Result = pd.DataFrame(Result, columns=['A', 'B', 'C', 'D', 'E', 'F', 'G', 'H', 'I', 'J','K'], index=['A', 'B', 'C', 'D', 'E', 'F', 'G', 'H', 'I', 'J','K'])\n",
    "    sm = StructureModel()\n",
    "    # iterate over the rows of the dataframe\n",
    "    for i, row in Result.iterrows():\n",
    "        # iterate over the columns of the dataframe\n",
    "        for j, value in row.iteritems():\n",
    "            if value > threshold:\n",
    "                # add an edge from i to j with weight equal to value\n",
    "                sm.add_edge(i, j, weight=value)\n",
    "    return sm\n",
    "def create_graph_majorvoting(List_DAG,threshold=0.8,min_check=0.5):\n",
    "    threshold=0.8\n",
    "    min_num_occurences=int(len(List_DAG)*min_check)\n",
    "    # replace the values in the matrix with 1 if they are greater than the threshold\n",
    "    for i in range(len(List_DAG)):\n",
    "        List_DAG[i][List_DAG[i] > threshold] = 1\n",
    "        List_DAG[i][List_DAG[i] <= threshold] = 0\n",
    "\n",
    "    final=np.zeros((11,11))\n",
    "\n",
    "    #check if the value i and j is 1 in at least min_num_occurences DAGs\n",
    "    for i in range(len(List_DAG)):\n",
    "        X=List_DAG[i]\n",
    "        for k in range(X.shape[0]):\n",
    "            for j in range(X.shape[1]):\n",
    "                if X[k][j]==1:\n",
    "                    final[i][j]+=1\n",
    "    final[final < min_num_occurences] = 0\n",
    "    final[final >= min_num_occurences] = 1\n",
    "    FinalResult=pd.DataFrame(final, columns=['A', 'B', 'C', 'D', 'E', 'F', 'G', 'H', 'I', 'J','K'], index=['A', 'B', 'C', 'D', 'E', 'F', 'G', 'H', 'I', 'J','K'])\n",
    "    sm = StructureModel()\n",
    "    for i, row in FinalResult.iterrows():\n",
    "        # iterate over the columns of the dataframe\n",
    "        for j, value in row.iteritems():\n",
    "            if value > threshold:\n",
    "                # add an edge from i to j with weight equal to value\n",
    "                sm.add_edge(i, j, weight=value)\n",
    "    return sm\n",
    "def cluster_dags_based_on_features(List_DAG,List_Weight,threshold=0.8,num_cluster=2):\n",
    "    dags=[]\n",
    "    for i in range(len(List_DAG)):\n",
    "        dag = create_dag(List_DAG[i], threshold=threshold)\n",
    "        dags.append(dag)\n",
    "\n",
    "    # Define the feature matrix for each DAG\n",
    "    n_nodes = len(dags[0].nodes())\n",
    "    feature_matrices = []\n",
    "    for dag in dags:\n",
    "        feature_matrix = np.zeros((n_nodes, n_nodes))\n",
    "        for edge in dag.edges():\n",
    "            feature_matrix[edge[0]-1, edge[1]-1] = 1\n",
    "        feature_matrices.append(feature_matrix.reshape(-1))\n",
    "\n",
    "    # # Apply K-means clustering to the feature matrix\n",
    "    kmeans = KMeans(n_clusters=num_cluster)\n",
    "    cluster_labels = kmeans.fit_predict(feature_matrices)\n",
    "    return dags,cluster_labels\n",
    "def jaccard_distance(dags):\n",
    "    n_dags = len(dags)\n",
    "    distances = np.zeros((n_dags, n_dags))\n",
    "    for i in range(n_dags):\n",
    "        for j in range(i+1, n_dags):\n",
    "            node_set1 = set(dags[i].nodes())\n",
    "            node_set2 = set(dags[j].nodes())\n",
    "            edge_set1 = set(dags[i].edges())\n",
    "            edge_set2 = set(dags[j].edges())\n",
    "            node_distance = 1 - len(node_set1.intersection(node_set2)) / len(node_set1.union(node_set2))\n",
    "            edge_distance = 1 - len(edge_set1.intersection(edge_set2)) / len(edge_set1.union(edge_set2))\n",
    "            distances[i, j] = distances[j, i] = (node_distance + edge_distance) / 2\n",
    "    return distances\n",
    "def hierarchical_clustering(List_DAG,threshold=0.8):\n",
    "    dags=[]\n",
    "    for i in range(len(List_DAG)):\n",
    "        dag = create_dag(List_DAG[i], threshold=threshold)\n",
    "        dags.append(dag)\n",
    "\n",
    "    # Compute the Jaccard distance matrix\n",
    "    distance_matrix = jaccard_distance(dags)\n",
    "\n",
    "    # Perform hierarchical clustering on the distance matrix\n",
    "    linkage_matrix = linkage(squareform(distance_matrix), method='average')\n",
    "    return linkage_matrix        "
   ]
  },
  {
   "cell_type": "code",
   "execution_count": 5,
   "metadata": {},
   "outputs": [],
   "source": [
    "### Loading the data and weights\n",
    "DAG1 = np.random.rand(11,11)\n",
    "Acc_Measure_DAG1=0.2\n",
    "DAG2 = np.random.rand(11,11)\n",
    "Acc_Measure_DAG2=0.4\n",
    "DAG3 = np.random.rand(11,11)\n",
    "Acc_Measure_DAG3=0.42\n",
    "List_DAG=[DAG1,DAG2,DAG3]\n",
    "List_Weight=[Acc_Measure_DAG1,Acc_Measure_DAG2,Acc_Measure_DAG3]\n"
   ]
  },
  {
   "cell_type": "code",
   "execution_count": null,
   "metadata": {},
   "outputs": [],
   "source": []
  },
  {
   "cell_type": "code",
   "execution_count": 7,
   "metadata": {},
   "outputs": [
    {
     "data": {
      "image/png": "[encoded data removed]",
      "text/plain": [
       "<IPython.core.display.Image object>"
      ]
     },
     "execution_count": 7,
     "metadata": {},
     "output_type": "execute_result"
    }
   ],
   "source": [
    "# Approach 1\n",
    "Result=np.zeros((11,11))\n",
    "for i in range(len(List_DAG)):\n",
    "    Result+=List_DAG[i]*List_Weight[i]\n",
    "SturctualModel=create_graph_from_WeightedArray(Result, threshold=0.8)\n",
    "viz = plot_structure(\n",
    "    SturctualModel,\n",
    "    graph_attributes={\"scale\": \"0.5\"},\n",
    "    all_node_attributes=NODE_STYLE.WEAK,\n",
    "    all_edge_attributes=EDGE_STYLE.WEAK,\n",
    ")\n",
    "Image(viz.draw(format='png'))"
   ]
  },
  {
   "cell_type": "code",
   "execution_count": null,
   "metadata": {},
   "outputs": [],
   "source": [
    "# Approach 2\n",
    "StructureModel2=create_graph_majorvoting(List_DAG,threshold=0.8)\n",
    "viz = plot_structure(\n",
    "    StructureModel2,\n",
    "    graph_attributes={\"scale\": \"0.5\"},\n",
    "    all_node_attributes=NODE_STYLE.WEAK,\n",
    "    all_edge_attributes=EDGE_STYLE.WEAK,\n",
    ")\n",
    "Image(viz.draw(format='png'))"
   ]
  },
  {
   "cell_type": "code",
   "execution_count": 8,
   "metadata": {},
   "outputs": [
    {
     "data": {
      "image/png": "[encoded data removed]",
      "text/plain": [
       "<Figure size 720x360 with 1 Axes>"
      ]
     },
     "metadata": {
      "needs_background": "light"
     },
     "output_type": "display_data"
    }
   ],
   "source": [
    "#Approach 3- Clustering based on features\n",
    "dags, cluster_labels = cluster_dags_based_on_features(List_DAG,List_Weight,threshold=0.8,num_cluster=2)\n",
    "sns.set_style('whitegrid')\n",
    "sns.set_context('talk')\n",
    "plt.figure(figsize=(10, 5))\n",
    "plt.scatter([len(dags.edges) for dags in dags], List_Weight, c=cluster_labels, cmap='viridis')\n",
    "plt.xlabel('Number of edges')\n",
    "plt.ylabel('Validty')\n",
    "plt.show()"
   ]
  },
  {
   "cell_type": "code",
   "execution_count": 9,
   "metadata": {},
   "outputs": [
    {
     "data": {
      "image/png": "[encoded data removed]",
      "text/plain": [
       "<Figure size 432x288 with 1 Axes>"
      ]
     },
     "metadata": {
      "needs_background": "light"
     },
     "output_type": "display_data"
    }
   ],
   "source": [
    "#Approach 4- Hierarchical clustering\n",
    "linkage_matrix=hierarchical_clustering(List_DAG,threshold=0.8)\n",
    "dendrogram(linkage_matrix)\n",
    "plt.show()"
   ]
  },
  {
   "cell_type": "code",
   "execution_count": null,
   "metadata": {},
   "outputs": [],
   "source": []
  }
 ],
 "metadata": {
  "kernelspec": {
   "display_name": "Python 3.10.4 ('jay')",
   "language": "python",
   "name": "python3"
  },
  "language_info": {
   "codemirror_mode": {
    "name": "ipython",
    "version": 3
   },
   "file_extension": ".py",
   "mimetype": "text/x-python",
   "name": "python",
   "nbconvert_exporter": "python",
   "pygments_lexer": "ipython3",
   "version": "3.10.4"
  },
  "orig_nbformat": 4,
  "vscode": {
   "interpreter": {
    "hash": "b45238433d97b733445830728515dbc4e9807b5f97a9e67bd6f4f65dfb5562d4"
   }
  }
 },
 "nbformat": 4,
 "nbformat_minor": 2
}
